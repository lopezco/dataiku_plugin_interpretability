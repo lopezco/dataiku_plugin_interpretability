{
"cells": [
  {
   "cell_type": "code",
   "execution_count": null,
   "metadata": {},
   "outputs": [],
   "source": [
    "%pylab inline"
   ]
  },
  {
   "cell_type": "code",
   "execution_count": null,
   "metadata": {},
   "outputs": [],
   "source": [
    "import dataiku\n",
    "from dataiku import pandasutils as pdu\n",
    "import pandas as pd\n",
    "import numpy as np\n",
    "import shap"
   ]
  },
  {
   "cell_type": "markdown",
   "metadata": {},
   "source": [
    "# Parameters\n",
    "\n",
    "You can get the `deployed_model_id` in the URL of the deployed model:\n",
    "\n",
    "[DSS_URL]/savedmodels/**{deployed_model_id}**/p/{full_id}\n",
    "\n",
    "Example: `'8OBZXffh'`\n",
    "\n",
    "\n",
    "\n"
   ]
  },
  {
   "cell_type": "code",
   "execution_count": null,
   "metadata": {},
   "outputs": [],
   "source": [
    "deployed_model_id             = ''\n",
    "read_limit                    = 1000  # None to interpret all rows\n",
    "max_variables_used_to_explain = 15"
   ]
  },
  {
   "cell_type": "markdown",
   "metadata": {},
   "source": [
    "# Load deployed model"
   ]
  },
  {
   "cell_type": "code",
   "execution_count": null,
   "metadata": {},
   "outputs": [],
   "source": [
    "model = dataiku.Model(lookup=deployed_model_id, project_key=dataiku.get_custom_variables()['projectKey'])"
   ]
  },
  {
   "cell_type": "markdown",
   "metadata": {},
   "source": [
    "## Show available versions"
   ]
  },
  {
   "cell_type": "code",
   "execution_count": null,
   "metadata": {},
   "outputs": [],
   "source": [
    "def show_versions(model, selected_idx=None):\n",
    "    print(\"{}\\n{}\\n\".format(model.get_name(), '='*len(model.get_name())))\n",
    "\n",
    "    N = range(len(model.list_versions())) if selected_idx is None else [selected_idx]\n",
    "    \n",
    "    for idx in N:\n",
    "        model_version_name = model.versions[idx]['snippet']['userMeta']['name']\n",
    "        model_version_id   = model.versions[idx]['versionId']\n",
    "        version_is_active = model.versions[idx]['active']\n",
    "\n",
    "        version_url = '[DSS_URL]/projects/{proj}/savedmodels/{lookup}/p/{full_id}/#summary'.format(\n",
    "            proj=model.project_key,\n",
    "            lookup=model.lookup,\n",
    "            full_id=model.versions[idx]['snippet'][u'fullModelId'])\n",
    "\n",
    "        print('INDEX:   {}\\nActive:  {}\\nProject: {}\\nLookup:  {}\\nName:    {}\\nVersion: {}'.format(idx, version_is_active, model.project_key, model.lookup, model_version_name, model_version_id))\n",
    "        print('URL:     {}\\n'.format(version_url))\n",
    "        \n",
    "show_versions(model)"
   ]
  },
  {
   "cell_type": "markdown",
   "metadata": {},
   "source": [
    "To override the selected version please replace the following variable by the index you select.\n",
    "By default it will select the `active` version of the saved model."
   ]
  },
  {
   "cell_type": "code",
   "execution_count": null,
   "metadata": {},
   "outputs": [],
   "source": [
    "active_version_idx = [idx for idx, version in enumerate(model.list_versions()) if version['active']][0]"
   ]
  },
  {
   "cell_type": "code",
   "execution_count": null,
   "metadata": {},
   "outputs": [],
   "source": [
    "print(\"Selected version...\\n\")\n",
    "show_versions(model, selected_idx=active_version_idx)"
   ]
  },
  {
   "cell_type": "markdown",
   "metadata": {},
   "source": [
    "## Get predictor"
   ]
  },
  {
   "cell_type": "code",
   "execution_count": null,
   "metadata": {
    "scrolled": true
   },
   "outputs": [],
   "source": [
    "predictor = model.get_predictor(version_id=model.versions[active_version_idx]['versionId'])"
   ]
  },
  {
   "cell_type": "markdown",
   "metadata": {},
   "source": [
    "# Load and process the the dataset"
   ]
  },
  {
   "cell_type": "code",
   "execution_count": null,
   "metadata": {},
   "outputs": [],
   "source": [
    "dku_dataset = dataiku.Dataset('__INPUT_DATASET_SMART_NAME__')\n",
    "df = dku_dataset.get_dataframe(limit=read_limit)"
   ]
  },
  {
   "cell_type": "code",
   "execution_count": null,
   "metadata": {
    "scrolled": true
   },
   "outputs": [],
   "source": [
    "df_processed = pd.DataFrame(predictor.preprocess(df)[0], columns=predictor.get_features())"
   ]
  },
  {
   "cell_type": "markdown",
   "metadata": {},
   "source": [
    "# Interpret\n",
    "\n",
    "Create an explainer and get Shap values"
   ]
  },
  {
   "cell_type": "code",
   "execution_count": null,
   "metadata": {},
   "outputs": [],
   "source": [
    "tree_explainer = shap.TreeExplainer(predictor._clf)\n",
    "shap_values = tree_explainer.shap_values(df_processed)"
   ]
  },
  {
   "cell_type": "markdown",
   "metadata": {},
   "source": [
    "## Global interpretation"
   ]
  },
  {
   "cell_type": "code",
   "execution_count": null,
   "metadata": {
    "scrolled": true
   },
   "outputs": [],
   "source": [
    "shap_values_list = shap_values if isinstance(shap_values, list) else [shap_values]\n",
    "classes = predictor.get_classes() if len(predictor.get_classes()) else None\n",
    "\n",
    "for idx, values in enumerate(shap_values_list):\n",
    "    if classes is None:                    # Regression\n",
    "        print('Explaining regression\\n{}'.format('='*21))\n",
    "        _current_class = []\n",
    "    else:                                  # Classification\n",
    "        if len(classes) == 2:              # Binary classification\n",
    "            _current_class = classes[1]\n",
    "        else:                              # Multi-class classification\n",
    "            _current_class = classes[idx]\n",
    "        print('Explaining class: {}\\n{}'.format(_current_class, '='*(18 + len(_current_class))))\n",
    "    \n",
    "    shap.summary_plot(values, df_processed, max_display=max_variables_used_to_explain, plot_type=\"bar\", class_names=_current_class)\n",
    "    shap.summary_plot(values, df_processed, max_display=max_variables_used_to_explain, plot_type=\"dot\", class_names=_current_class)\n",
    "    #shap.summary_plot(values, df_processed, max_display=max_variables_used_to_explain, plot_type=\"violin\", class_names=_current_class)\n"
   ]
  },
  {
   "cell_type": "markdown",
   "metadata": {},
   "source": [
    "## Sample interpretation\n",
    "\n",
    "Interpret sample `0`. You can change the sample to interpret."
   ]
  },
  {
   "cell_type": "code",
   "execution_count": null,
   "metadata": {},
   "outputs": [],
   "source": [
    "sample_idx = 0\n",
    "\n",
    "expected_values = tree_explainer.expected_value if isinstance(tree_explainer.expected_value, list) else [tree_explainer.expected_value]\n",
    "sample_plot = []\n",
    "for idx, values in enumerate(shap_values_list):\n",
    "    if classes is None:                    # Regression\n",
    "        print('INDEX {} = Regression explanation'.format(idx))\n",
    "        _current_class = []\n",
    "    else:                                  # Classification\n",
    "        if len(classes) == 2:              # Binary classification\n",
    "            _current_class = classes[1]\n",
    "        else:                              # Multi-class classification\n",
    "            _current_class = classes[idx]\n",
    "        print('INDEX {} = {}'.format(idx, _current_class))\n",
    "    \n",
    "    sample_plot.append(shap.force_plot(expected_values[idx], values[sample_idx,:], df_processed.iloc[sample_idx,:], link=\"logit\"))\n",
    "\n",
    "print('\\n\\nExecute sample_plot[INDEX] to see result')"
   ]
  },
  {
   "cell_type": "code",
   "execution_count": null,
   "metadata": {},
   "outputs": [],
   "source": [
    "sample_plot[0]"
   ]
  }
 ],
 "metadata": {
  "kernelspec": {
   "display_name" : "Python 2",
   "language": "python",
   "name": "python2"
  }
 },
 "nbformat": 4,
 "nbformat_minor": 0
}
